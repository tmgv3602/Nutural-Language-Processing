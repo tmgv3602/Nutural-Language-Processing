{
  "nbformat": 4,
  "nbformat_minor": 0,
  "metadata": {
    "colab": {
      "name": "TokenizaionNLTK.ipynb",
      "provenance": []
    },
    "kernelspec": {
      "name": "python3",
      "display_name": "Python 3"
    },
    "language_info": {
      "name": "python"
    }
  },
  "cells": [
    {
      "cell_type": "code",
      "metadata": {
        "colab": {
          "base_uri": "https://localhost:8080/"
        },
        "id": "yyTKdFN8wL8M",
        "outputId": "03fc54e3-6aa2-47ac-d630-bf7d5b4c7403"
      },
      "source": [
        "import nltk\n",
        "nltk.download('punkt')"
      ],
      "execution_count": 6,
      "outputs": [
        {
          "output_type": "stream",
          "name": "stdout",
          "text": [
            "[nltk_data] Downloading package punkt to /root/nltk_data...\n",
            "[nltk_data]   Unzipping tokenizers/punkt.zip.\n"
          ]
        },
        {
          "output_type": "execute_result",
          "data": {
            "text/plain": [
              "True"
            ]
          },
          "metadata": {},
          "execution_count": 6
        }
      ]
    },
    {
      "cell_type": "code",
      "metadata": {
        "id": "aahDsOfCnEs6"
      },
      "source": [
        "text = \"\"\"The Food and Drug Administration is responsible for protecting the public health by ensuring the safety, efficacy, and security of human and veterinary drugs, biological products, and medical devices; and by ensuring the safety of our nation's food supply, cosmetics, and products that emit radiation. FDA also has responsibility for regulating the manufacturing, marketing, and distribution of tobacco products to protect the public health and to reduce tobacco use by minors.\"\"\""
      ],
      "execution_count": 13,
      "outputs": []
    },
    {
      "cell_type": "code",
      "metadata": {
        "colab": {
          "base_uri": "https://localhost:8080/"
        },
        "id": "vkD7sREynN6A",
        "outputId": "5c7807e2-880b-41e1-a658-9c6d25a3638e"
      },
      "source": [
        "sentences = nltk.sent_tokenize(text)\n",
        "sentences"
      ],
      "execution_count": 14,
      "outputs": [
        {
          "output_type": "execute_result",
          "data": {
            "text/plain": [
              "[\"The Food and Drug Administration is responsible for protecting the public health by ensuring the safety, efficacy, and security of human and veterinary drugs, biological products, and medical devices; and by ensuring the safety of our nation's food supply, cosmetics, and products that emit radiation.\",\n",
              " 'FDA also has responsibility for regulating the manufacturing, marketing, and distribution of tobacco products to protect the public health and to reduce tobacco use by minors.']"
            ]
          },
          "metadata": {},
          "execution_count": 14
        }
      ]
    },
    {
      "cell_type": "code",
      "metadata": {
        "colab": {
          "base_uri": "https://localhost:8080/"
        },
        "id": "H4CAMUTAnceY",
        "outputId": "ed7c9a39-d2ed-4587-ae0a-623a7a94a601"
      },
      "source": [
        "words = nltk.word_tokenize(text)\n",
        "words"
      ],
      "execution_count": 10,
      "outputs": [
        {
          "output_type": "execute_result",
          "data": {
            "text/plain": [
              "['The',\n",
              " 'Food',\n",
              " 'and',\n",
              " 'Drug',\n",
              " 'Administration',\n",
              " 'is',\n",
              " 'responsible',\n",
              " 'for',\n",
              " 'protecting',\n",
              " 'the',\n",
              " 'public',\n",
              " 'health',\n",
              " 'by',\n",
              " 'ensuring',\n",
              " 'the',\n",
              " 'safety',\n",
              " ',',\n",
              " 'efficacy',\n",
              " ',',\n",
              " 'and',\n",
              " 'security',\n",
              " 'of',\n",
              " 'human',\n",
              " 'and',\n",
              " 'veterinary',\n",
              " 'drugs',\n",
              " ',',\n",
              " 'biological',\n",
              " 'products',\n",
              " ',',\n",
              " 'and',\n",
              " 'medical',\n",
              " 'devices',\n",
              " ';',\n",
              " 'and',\n",
              " 'by',\n",
              " 'ensuring',\n",
              " 'the',\n",
              " 'safety',\n",
              " 'of',\n",
              " 'our',\n",
              " 'nation',\n",
              " \"'s\",\n",
              " 'food',\n",
              " 'supply',\n",
              " ',',\n",
              " 'cosmetics',\n",
              " ',',\n",
              " 'and',\n",
              " 'products',\n",
              " 'that',\n",
              " 'emit',\n",
              " 'radiation',\n",
              " '.']"
            ]
          },
          "metadata": {},
          "execution_count": 10
        }
      ]
    },
    {
      "cell_type": "code",
      "metadata": {
        "id": "SL1VaYdSnnQs"
      },
      "source": [
        ""
      ],
      "execution_count": null,
      "outputs": []
    }
  ]
}